{
 "cells": [
  {
   "cell_type": "code",
   "execution_count": null,
   "metadata": {},
   "outputs": [],
   "source": [
    "import numpy as np\n",
    "import matplotlib.pyplot as plt"
   ]
  },
  {
   "cell_type": "code",
   "execution_count": null,
   "metadata": {},
   "outputs": [],
   "source": [
    "import gplearn as gpl        \n",
    "from gplearn.genetic import SymbolicRegressor\n",
    "import graphviz\n",
    "import pickle\n",
    "import pydotplus"
   ]
  },
  {
   "cell_type": "code",
   "execution_count": null,
   "metadata": {},
   "outputs": [],
   "source": [
    "data=np.genfromtxt(\"m1m2r.txt\",delimiter=',',dtype=float) #mass 1 (kg), mass 2 (kg), r (m), F"
   ]
  },
  {
   "cell_type": "code",
   "execution_count": null,
   "metadata": {},
   "outputs": [],
   "source": [
    "G=6.67408E-11*np.ones((6351,1), dtype=float) #Gravitational constant  (m3⋅kg−1⋅s−2)"
   ]
  },
  {
   "cell_type": "code",
   "execution_count": null,
   "metadata": {},
   "outputs": [],
   "source": [
    "m1=data[:,0]\n",
    "m2=data[:,1]\n",
    "r=data[:,2]\n",
    "F=data[:,3]"
   ]
  },
  {
   "cell_type": "code",
   "execution_count": null,
   "metadata": {},
   "outputs": [],
   "source": [
    "function_set = ['mul', 'div']"
   ]
  },
  {
   "cell_type": "code",
   "execution_count": null,
   "metadata": {},
   "outputs": [],
   "source": [
    "model = SymbolicRegressor(population_size = 3000, tournament_size=300,\n",
    "                          generations = 250, stopping_criteria=2E-5,\n",
    "                          function_set = function_set, metric='rmse',init_depth=(3,10),\n",
    "                          p_crossover=0.25, p_subtree_mutation=0.5,\n",
    "                          p_hoist_mutation=0.0, p_point_mutation=0.25,\n",
    "                          verbose = 1, random_state = None, n_jobs = -1)"
   ]
  },
  {
   "cell_type": "code",
   "execution_count": null,
   "metadata": {},
   "outputs": [],
   "source": [
    "input=np.column_stack((m1,m2,r,G))\n",
    "x_train=input[0:5000,:]#Dividing test set and train set\n",
    "y_train=F[0:5000]\n",
    "\n",
    "x_test=input[5001:6351,:]\n",
    "y_test=F[5001:6351]"
   ]
  },
  {
   "cell_type": "code",
   "execution_count": null,
   "metadata": {},
   "outputs": [],
   "source": [
    "model.fit(x_train,y_train)\n"
   ]
  },
  {
   "cell_type": "code",
   "execution_count": null,
   "metadata": {},
   "outputs": [],
   "source": [
    "print(model._program)"
   ]
  },
  {
   "cell_type": "code",
   "execution_count": null,
   "metadata": {},
   "outputs": [],
   "source": [
    "dot_data = model._program.export_graphviz()\n",
    "#graph = graphviz.Source(dot_data)\n",
    "graph = pydotplus.graph_from_dot_data(dot_data)  \n",
    "#graph.write_png(\"graph_program.png\")\n",
    "graph"
   ]
  },
  {
   "cell_type": "code",
   "execution_count": null,
   "metadata": {},
   "outputs": [],
   "source": [
    "mod_y_test=model.predict(x_test)"
   ]
  },
  {
   "cell_type": "code",
   "execution_count": null,
   "metadata": {},
   "outputs": [],
   "source": [
    "cc=np.corrcoef(mod_y_test,y_test)#Estimating pearson coefficient between modelled & true target variable\n",
    "print(cc)"
   ]
  },
  {
   "cell_type": "code",
   "execution_count": null,
   "metadata": {},
   "outputs": [],
   "source": [
    "# Plot\n",
    "plt.scatter(y_test, mod_y_test, alpha=0.1)\n",
    "plt.title('Scatter plot for test set')\n",
    "plt.xlabel('')\n",
    "plt.ylabel('y')\n",
    "plt.xlim(right=min(y_test))  \n",
    "plt.xlim(left=max(y_test))  \n",
    "plt.ylim(top=min(y_test))  \n",
    "plt.ylim(bottom=max(y_test))  \n",
    "#plt.show()\n",
    "plt.savefig('test_scatter.png')\n"
   ]
  },
  {
   "cell_type": "code",
   "execution_count": null,
   "metadata": {},
   "outputs": [],
   "source": [
    "#Uncomment the followng line to save the trained model\n",
    "\n",
    "#pickle.dump(model, open('gravitational_law.sav', 'wb'))\n"
   ]
  },
  {
   "cell_type": "code",
   "execution_count": null,
   "metadata": {},
   "outputs": [],
   "source": [
    "#load the saved model\n",
    "\n",
    "#loaded_model = pickle.load(open('test.sav', 'rb'))\n"
   ]
  }
 ],
 "metadata": {
  "kernelspec": {
   "display_name": "Python 3",
   "language": "python",
   "name": "python3"
  },
  "language_info": {
   "codemirror_mode": {
    "name": "ipython",
    "version": 3
   },
   "file_extension": ".py",
   "mimetype": "text/x-python",
   "name": "python",
   "nbconvert_exporter": "python",
   "pygments_lexer": "ipython3",
   "version": "3.7.4"
  },
  "varInspector": {
   "cols": {
    "lenName": 16,
    "lenType": 16,
    "lenVar": 40
   },
   "kernels_config": {
    "python": {
     "delete_cmd_postfix": "",
     "delete_cmd_prefix": "del ",
     "library": "var_list.py",
     "varRefreshCmd": "print(var_dic_list())"
    },
    "r": {
     "delete_cmd_postfix": ") ",
     "delete_cmd_prefix": "rm(",
     "library": "var_list.r",
     "varRefreshCmd": "cat(var_dic_list()) "
    }
   },
   "oldHeight": 473.65,
   "position": {
    "height": "495.25px",
    "left": "811.6px",
    "right": "20px",
    "top": "369px",
    "width": "554.8px"
   },
   "types_to_exclude": [
    "module",
    "function",
    "builtin_function_or_method",
    "instance",
    "_Feature"
   ],
   "varInspector_section_display": "block",
   "window_display": false
  }
 },
 "nbformat": 4,
 "nbformat_minor": 2
}
